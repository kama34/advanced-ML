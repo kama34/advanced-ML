{
 "nbformat": 4,
 "nbformat_minor": 0,
 "metadata": {
  "colab": {
   "provenance": []
  },
  "kernelspec": {
   "name": "python3",
   "language": "python",
   "display_name": "Python 3 (ipykernel)"
  },
  "language_info": {
   "name": "python"
  }
 },
 "cells": [
  {
   "cell_type": "markdown",
   "source": [
    "# Lab 7 :  Graphical and hidden Markov models\n",
    "```\n",
    "- [S23] Advanced Machine Learning, Innopolis University\n",
    "- Teaching Assistant: Gcinizwe Dlamini\n",
    "```\n",
    "<hr>\n",
    "\n",
    "\n",
    "```\n",
    "Lab Plan\n",
    "1. Project start\n",
    "2. Recap on HMMs\n",
    "3. Simple example for HMMs\n",
    "3. Task\n",
    "```\n",
    "\n",
    "<hr>\n"
   ],
   "metadata": {
    "id": "9tDI0HSwkegm"
   }
  },
  {
   "cell_type": "markdown",
   "source": [
    "## 1. Recap on HMMs and Likelihood\n",
    "\n",
    "<!--![](https://www.dropbox.com/scl/fi/wm8nbmqgchv3orw7r488f/Lecture-5-HMM.jpg?rlkey=3x0lmmzxchgz6esmq6yrjfzne&dl=1)-->"
   ],
   "metadata": {
    "id": "ZnuGqnsqmxlQ"
   }
  },
  {
   "cell_type": "code",
   "source": [
    "import numpy as np\n",
    "states = ('Sunny', 'Rainy')\n",
    "observations = ('happy', 'grumpy')\n",
    "pi = np.array([2./3., 1./3.])  # initial probability\n",
    "A = np.array([[7./9., 2./9.],[0.4, 0.6]]) # Transmission probability\n",
    "B = np.array([[0.8, 0.2],[0.4, 0.6]]) # Emission probability\n",
    "bob_says = np.array([0,0,1,1,1,0])\n",
    "\n",
    "def forward(obs_seq, pi, A, B):\n",
    "    T = len(obs_seq)\n",
    "    N = A.shape[0]\n",
    "    alpha = np.zeros((T, N))\n",
    "    alpha[0] = pi*B[:,obs_seq[0]]\n",
    "    for t in range(1, T):\n",
    "        alpha[t] = np.inner(alpha[t-1],A) * B[:, obs_seq[t]]\n",
    "    return alpha\n",
    "\n",
    "def likelihood(alpha):\n",
    "    # using the forward part of the forward-backward algorithm\n",
    "    return  alpha[-1].sum()\n",
    "\n",
    "alpha = forward(bob_says, pi, A, B)\n",
    "print(alpha)\n",
    "\n",
    "print(likelihood(alpha))"
   ],
   "metadata": {
    "colab": {
     "base_uri": "https://localhost:8080/"
    },
    "id": "wCjG1przOcMS",
    "outputId": "b381db53-d799-4bac-b60a-18993cd742db",
    "ExecuteTime": {
     "end_time": "2024-03-18T23:51:45.868941Z",
     "start_time": "2024-03-18T23:51:45.670051Z"
    }
   },
   "execution_count": 1,
   "outputs": [
    {
     "name": "stdout",
     "output_type": "stream",
     "text": [
      "[[0.53333333 0.13333333]\n",
      " [0.35555556 0.11733333]\n",
      " [0.06052346 0.12757333]\n",
      " [0.01508469 0.06045203]\n",
      " [0.00503326 0.02538306]\n",
      " [0.00764435 0.00689726]]\n",
      "0.014541607035957256\n"
     ]
    }
   ]
  },
  {
   "cell_type": "markdown",
   "source": [
    "## 2. Viterbi algorithm simple example\n"
   ],
   "metadata": {
    "id": "5M67p6tEOjm3"
   }
  },
  {
   "cell_type": "code",
   "source": [
    "from numpy import random\n",
    "# Transition Probabilities (s - sunny; r-raining)\n",
    "p_ss = 7./9.\n",
    "p_sr = 2./9.\n",
    "p_rs = 0.4\n",
    "p_rr = 0.6\n",
    "\n",
    "# Initial Probabilities\n",
    "p_s = 2/3\n",
    "p_r = 1/3\n",
    "\n",
    "# Emission Probabilities (h - happy; g- grumpy)\n",
    "p_sh = 0.8\n",
    "p_sg = 0.2\n",
    "p_rh = 0.4\n",
    "p_rg = 0.6\n",
    "\n",
    "moods = ['H', 'H', 'G', 'G', 'G', 'H']\n",
    "probabilities = []\n",
    "weather = []\n",
    "\n",
    "if moods[0] == 'H':\n",
    "    probabilities.append((p_s*p_sh, p_r*p_rh))\n",
    "else:\n",
    "    probabilities.append((p_s*p_sg, p_r*p_rg))\n",
    "\n",
    "for i in range(1,len(moods)):\n",
    "    yesterday_sunny, yesterday_rainy = probabilities[-1]\n",
    "    if moods[i] == 'H':\n",
    "        today_sunny = max(yesterday_sunny*p_ss*p_sh, yesterday_rainy*p_rs*p_sh)\n",
    "        today_rainy = max(yesterday_sunny*p_sr*p_rh, yesterday_rainy*p_rr*p_rh)\n",
    "        probabilities.append((today_sunny, today_rainy))\n",
    "    else:\n",
    "        today_sunny = max(yesterday_sunny*p_ss*p_sg, yesterday_rainy*p_rs*p_sg)\n",
    "        today_rainy = max(yesterday_sunny*p_sr*p_rg, yesterday_rainy*p_rr*p_rg)\n",
    "        probabilities.append((today_sunny, today_rainy))\n",
    "\n",
    "for p in probabilities:\n",
    "    if p[0] > p[1]:\n",
    "        weather.append('S')\n",
    "    else:\n",
    "        weather.append('R')\n",
    "\n",
    "weather"
   ],
   "metadata": {
    "colab": {
     "base_uri": "https://localhost:8080/"
    },
    "id": "HsUXvGSGPKjF",
    "outputId": "752f55d6-af53-4b4e-dd69-a99be822cc99",
    "ExecuteTime": {
     "end_time": "2024-03-18T23:51:49.710157Z",
     "start_time": "2024-03-18T23:51:49.691737Z"
    }
   },
   "execution_count": 2,
   "outputs": [
    {
     "data": {
      "text/plain": "['S', 'S', 'S', 'R', 'R', 'S']"
     },
     "execution_count": 2,
     "metadata": {},
     "output_type": "execute_result"
    }
   ]
  },
  {
   "cell_type": "markdown",
   "source": [
    "## 3. Parts of Speech (POS) Tagging\n",
    "\n",
    "---\n",
    "\n",
    "* process of assigning a part-of-speech to each word in a text\n",
    "* POS is a disambiguation task (some words can have multiple part of speech depending in the context)\n",
    "* Gives an idea about syntactic structure (parsing)\n",
    "\n",
    "**How does it work?**\n",
    "\n",
    "<!--![](http://www.cs.virginia.edu/~hw5x/Course/TextMining-2019Spring/_site/docs/codes/HMM.PNG)-->"
   ],
   "metadata": {
    "id": "muaU84GNpgY9"
   }
  },
  {
   "cell_type": "markdown",
   "source": [
    "## 4. Task (Viterbi algorithm)\n",
    "\n",
    "<!-- ![](https://miro.medium.com/max/1080/1*8-5KZVj-_jZOWN83gGhD5A.png) -->\n",
    "<!--![](https://www.dropbox.com/scl/fi/twg8yqdhqwxcbr5lcqj4w/pos_tag1.png?rlkey=5kizqwfv8gk8vg26434sp0rk2&dl=1)-->\n",
    "\n",
    "First steps :\n",
    "*  Calculate or estimate transition probabilities between different parts of speech tags\n",
    "* Calculate or estimate prior probabilities of tags\n",
    "\n",
    "\n",
    "In the task you are going to use a a fraction of conll2000 dataset. The dataset should be retrieved from : [Train](https://www.dropbox.com/s/x9n6f9o9jl7pno8/train_pos.txt?dl=1), [Test](https://www.dropbox.com/s/v8nccvq7jewcl8s/test_pos.txt?dl=1)\n",
    "\n",
    "1. Calculate the transition probability and emission matrices (First step towards viterbi) <!-- 10 points -->\n",
    "1. Use Viterbi algorithm for POS tagging task (you can use libiries such as [`hmmlearn`](https://github.com/hmmlearn/hmmlearn)).\n",
    "1. Test your viterbi model on the test set and record the accuracy. The accuray referes to the number of correcly predicted tags in the whole test samples.\n",
    "1. Using Recurrent neural network (RNN, GRU or LSTM) or Transfomer solve the task for POS"
   ],
   "metadata": {
    "id": "Jg_g0rs_dqfl"
   }
  },
  {
   "cell_type": "code",
   "source": [
    "# Load dataset train and test\n",
    "from datasets import load_dataset\n",
    "\n",
    "dataset = load_dataset('conll2000')\n",
    "\n",
    "train_data = dataset['train']\n",
    "test_data = dataset['test']\n",
    "\n",
    "print(len(train_data))"
   ],
   "metadata": {
    "id": "4OMiWRjLoWKP"
   },
   "execution_count": null,
   "outputs": []
  },
  {
   "cell_type": "code",
   "outputs": [
    {
     "name": "stdout",
     "output_type": "stream",
     "text": [
      "Dataset({\n",
      "    features: ['id', 'tokens', 'pos_tags', 'chunk_tags'],\n",
      "    num_rows: 8937\n",
      "})\n"
     ]
    }
   ],
   "source": [
    "print(train_data)"
   ],
   "metadata": {
    "collapsed": false,
    "ExecuteTime": {
     "end_time": "2024-03-19T00:16:11.581781Z",
     "start_time": "2024-03-19T00:16:11.576975Z"
    }
   },
   "execution_count": 7
  },
  {
   "cell_type": "code",
   "outputs": [
    {
     "name": "stdout",
     "output_type": "stream",
     "text": [
      "Dataset({\n",
      "    features: ['id', 'tokens', 'pos_tags', 'chunk_tags'],\n",
      "    num_rows: 2013\n",
      "})\n"
     ]
    }
   ],
   "source": [
    "print(test_data)"
   ],
   "metadata": {
    "collapsed": false,
    "ExecuteTime": {
     "end_time": "2024-03-19T00:16:55.584278Z",
     "start_time": "2024-03-19T00:16:55.580771Z"
    }
   },
   "execution_count": 8
  },
  {
   "cell_type": "code",
   "outputs": [],
   "source": [],
   "metadata": {
    "collapsed": false
   }
  }
 ]
}
